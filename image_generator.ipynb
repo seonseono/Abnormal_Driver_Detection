{
 "cells": [
  {
   "cell_type": "code",
   "execution_count": null,
   "metadata": {},
   "outputs": [],
   "source": [
    "import os\n",
    "import numpy as np\n",
    "from tensorflow.keras.preprocessing.image import ImageDataGenerator, img_to_array, load_img, array_to_img\n",
    "\n",
    "# 데이터 증강을 위한 ImageDataGenerator 설정\n",
    "datagen = ImageDataGenerator(\n",
    "    rotation_range=20,\n",
    "    width_shift_range=0.2,\n",
    "    height_shift_range=0.2,\n",
    "    shear_range=0.2,\n",
    "    zoom_range=0.2,\n",
    "    horizontal_flip=True,\n",
    "    fill_mode='nearest'\n",
    ")\n",
    "\n",
    "# 클래스별 이미지 경로 설정\n",
    "base_dir = 'dataset/images'  # 데이터셋의 기본 디렉토리 경로\n",
    "class_names = ['drowsy', 'search', 'phone', 'normal']  # 클래스 이름 리스트\n",
    "\n",
    "# 클래스별 이미지 수 확인\n",
    "image_counts = {class_name: len(os.listdir(os.path.join(base_dir, class_name))) for class_name in class_names}\n",
    "max_count = max(image_counts.values())\n",
    "\n",
    "# 각 클래스에 대해 데이터 증강 수행\n",
    "for class_name in class_names:\n",
    "    class_dir = os.path.join(base_dir, class_name)\n",
    "    images = os.listdir(class_dir)\n",
    "    num_images_to_generate = max_count - len(images)\n",
    "\n",
    "    print(f'{class_name}: {len(images)} images, generating {num_images_to_generate} more images')\n",
    "\n",
    "    i = 0\n",
    "    for img_name in images:\n",
    "        img_path = os.path.join(class_dir, img_name)\n",
    "        img = load_img(img_path)  # 이미지를 로드\n",
    "        x = img_to_array(img)  # 이미지를 배열로 변환\n",
    "        x = np.expand_dims(x, axis=0)\n",
    "\n",
    "        # 증강된 이미지 생성 및 저장\n",
    "        for batch in datagen.flow(x, batch_size=1, save_to_dir=class_dir, save_prefix='aug', save_format='jpg'):\n",
    "            i += 1\n",
    "            if i >= num_images_to_generate:\n",
    "                break\n",
    "\n",
    "print('Data augmentation completed.')\n"
   ]
  }
 ],
 "metadata": {
  "language_info": {
   "name": "python"
  }
 },
 "nbformat": 4,
 "nbformat_minor": 2
}
