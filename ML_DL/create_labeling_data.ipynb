{
 "cells": [
  {
   "cell_type": "code",
   "execution_count": 13,
   "metadata": {},
   "outputs": [
    {
     "name": "stdout",
     "output_type": "stream",
     "text": [
      "YOLO label files have been generated.\n"
     ]
    }
   ],
   "source": [
    "import os\n",
    "import random\n",
    "from PIL import Image\n",
    "\n",
    "def generate_random_yolo_label(image_path, class_id):\n",
    "    \"\"\"\n",
    "    Generate a single random YOLO label for an image with a specific class ID.\n",
    "    \n",
    "    Parameters:\n",
    "    image_path (str): Path to the image file.\n",
    "    class_id (int): Class ID to use for the label.\n",
    "    \n",
    "    Returns:\n",
    "    YOLO label as a string.\n",
    "    \"\"\"\n",
    "    # Open the image file\n",
    "    with Image.open(image_path) as img:\n",
    "        width, height = img.size\n",
    "\n",
    "    # Generate random bounding box coordinates\n",
    "    x_center = random.uniform(0, 1)\n",
    "    y_center = random.uniform(0, 1)\n",
    "    bbox_width = random.uniform(0.05, 0.3)\n",
    "    bbox_height = random.uniform(0.05, 0.3)\n",
    "    \n",
    "    # Ensure bbox is within image bounds\n",
    "    x_center = min(max(x_center, bbox_width / 2), 1 - bbox_width / 2)\n",
    "    y_center = min(max(y_center, bbox_height / 2), 1 - bbox_height / 2)\n",
    "    \n",
    "    return f\"{class_id} {x_center:.6f} {y_center:.6f} {bbox_width:.6f} {bbox_height:.6f}\"\n",
    "\n",
    "def save_yolo_label(image_path, label, output_dir):\n",
    "    \"\"\"\n",
    "    Save a YOLO label to a text file.\n",
    "\n",
    "    Parameters:\n",
    "    image_path (str): Path to the image file.\n",
    "    label (str): YOLO label.\n",
    "    output_dir (str): Directory to save the label file.\n",
    "    \"\"\"\n",
    "    image_name = os.path.basename(image_path)\n",
    "    label_file_name = os.path.splitext(image_name)[0] + '.txt'\n",
    "    label_file_path = os.path.join(output_dir, label_file_name)\n",
    "\n",
    "    with open(label_file_path, 'w') as f:\n",
    "        f.write(f\"{label}\\n\")\n",
    "\n",
    "# Example usage\n",
    "image_dir = 'dataset\\\\train\\\\normal'  # Replace with the path to your image directory\n",
    "output_dir = 'labels\\\\train\\\\normal'  # Replace with the path to your output directory\n",
    "class_id = 3  # Replace with the class ID you want to use\n",
    "\n",
    "if not os.path.exists(output_dir):\n",
    "    os.makedirs(output_dir)\n",
    "\n",
    "for image_file in os.listdir(image_dir):\n",
    "    if image_file.endswith(('.png', '.jpg', '.jpeg')):\n",
    "        image_path = os.path.join(image_dir, image_file)\n",
    "        label = generate_random_yolo_label(image_path, class_id)  # Generate a single label per image\n",
    "        save_yolo_label(image_path, label, output_dir)\n",
    "\n",
    "print(\"YOLO label files have been generated.\")\n",
    "\n",
    "### class ID ###\n",
    "# drowsy : 0\n",
    "# search : 1\n",
    "# phone : 2\n",
    "# normal : 3"
   ]
  },
  {
   "cell_type": "code",
   "execution_count": null,
   "metadata": {},
   "outputs": [],
   "source": []
  }
 ],
 "metadata": {
  "kernelspec": {
   "display_name": "py_project",
   "language": "python",
   "name": "python3"
  },
  "language_info": {
   "codemirror_mode": {
    "name": "ipython",
    "version": 3
   },
   "file_extension": ".py",
   "mimetype": "text/x-python",
   "name": "python",
   "nbconvert_exporter": "python",
   "pygments_lexer": "ipython3",
   "version": "3.10.11"
  }
 },
 "nbformat": 4,
 "nbformat_minor": 2
}
